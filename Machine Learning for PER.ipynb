{
 "cells": [
  {
   "cell_type": "code",
   "execution_count": 1,
   "metadata": {},
   "outputs": [],
   "source": [
    "import pandas as pd\n",
    "import seaborn as sns\n",
    "import matplotlib.pyplot as plt\n",
    "import numpy as np\n",
    "from sklearn.model_selection import train_test_split\n",
    "from sklearn import metrics,preprocessing\n",
    "from sklearn.linear_model import LinearRegression\n",
    "from sklearn.metrics import r2_score, f1_score\n",
    "from sklearn import model_selection\n",
    "from sklearn import linear_model\n",
    "%matplotlib inline"
   ]
  },
  {
   "cell_type": "markdown",
   "metadata": {},
   "source": [
    "### Loading the data"
   ]
  },
  {
   "cell_type": "code",
   "execution_count": 2,
   "metadata": {},
   "outputs": [
    {
     "data": {
      "text/html": [
       "<div>\n",
       "<style scoped>\n",
       "    .dataframe tbody tr th:only-of-type {\n",
       "        vertical-align: middle;\n",
       "    }\n",
       "\n",
       "    .dataframe tbody tr th {\n",
       "        vertical-align: top;\n",
       "    }\n",
       "\n",
       "    .dataframe thead th {\n",
       "        text-align: right;\n",
       "    }\n",
       "</style>\n",
       "<table border=\"1\" class=\"dataframe\">\n",
       "  <thead>\n",
       "    <tr style=\"text-align: right;\">\n",
       "      <th></th>\n",
       "      <th>G</th>\n",
       "      <th>MP</th>\n",
       "      <th>FG</th>\n",
       "      <th>FGA</th>\n",
       "      <th>FG%</th>\n",
       "      <th>3P</th>\n",
       "      <th>3PA</th>\n",
       "      <th>3P%</th>\n",
       "      <th>2P</th>\n",
       "      <th>2PA</th>\n",
       "      <th>...</th>\n",
       "      <th>ORB</th>\n",
       "      <th>DRB</th>\n",
       "      <th>TRB</th>\n",
       "      <th>AST</th>\n",
       "      <th>STL</th>\n",
       "      <th>BLK</th>\n",
       "      <th>TOV</th>\n",
       "      <th>PF</th>\n",
       "      <th>PTS</th>\n",
       "      <th>PER</th>\n",
       "    </tr>\n",
       "  </thead>\n",
       "  <tbody>\n",
       "    <tr>\n",
       "      <th>0</th>\n",
       "      <td>61.0</td>\n",
       "      <td>737.0</td>\n",
       "      <td>124.0</td>\n",
       "      <td>228.0</td>\n",
       "      <td>0.544</td>\n",
       "      <td>0.0</td>\n",
       "      <td>1.0</td>\n",
       "      <td>0.000</td>\n",
       "      <td>124.0</td>\n",
       "      <td>227.0</td>\n",
       "      <td>...</td>\n",
       "      <td>73.0</td>\n",
       "      <td>135.0</td>\n",
       "      <td>208.0</td>\n",
       "      <td>29.0</td>\n",
       "      <td>20.0</td>\n",
       "      <td>28.0</td>\n",
       "      <td>43.0</td>\n",
       "      <td>91.0</td>\n",
       "      <td>304.0</td>\n",
       "      <td>16.64</td>\n",
       "    </tr>\n",
       "    <tr>\n",
       "      <th>1</th>\n",
       "      <td>58.0</td>\n",
       "      <td>1605.0</td>\n",
       "      <td>189.0</td>\n",
       "      <td>308.0</td>\n",
       "      <td>0.614</td>\n",
       "      <td>0.0</td>\n",
       "      <td>3.0</td>\n",
       "      <td>0.000</td>\n",
       "      <td>189.0</td>\n",
       "      <td>305.0</td>\n",
       "      <td>...</td>\n",
       "      <td>213.0</td>\n",
       "      <td>301.0</td>\n",
       "      <td>514.0</td>\n",
       "      <td>111.0</td>\n",
       "      <td>54.0</td>\n",
       "      <td>38.0</td>\n",
       "      <td>78.0</td>\n",
       "      <td>113.0</td>\n",
       "      <td>438.0</td>\n",
       "      <td>17.29</td>\n",
       "    </tr>\n",
       "    <tr>\n",
       "      <th>2</th>\n",
       "      <td>64.0</td>\n",
       "      <td>2143.0</td>\n",
       "      <td>456.0</td>\n",
       "      <td>800.0</td>\n",
       "      <td>0.570</td>\n",
       "      <td>2.0</td>\n",
       "      <td>8.0</td>\n",
       "      <td>0.250</td>\n",
       "      <td>454.0</td>\n",
       "      <td>792.0</td>\n",
       "      <td>...</td>\n",
       "      <td>142.0</td>\n",
       "      <td>431.0</td>\n",
       "      <td>573.0</td>\n",
       "      <td>346.0</td>\n",
       "      <td>75.0</td>\n",
       "      <td>66.0</td>\n",
       "      <td>169.0</td>\n",
       "      <td>145.0</td>\n",
       "      <td>1197.0</td>\n",
       "      <td>26.39</td>\n",
       "    </tr>\n",
       "    <tr>\n",
       "      <th>3</th>\n",
       "      <td>26.0</td>\n",
       "      <td>674.0</td>\n",
       "      <td>140.0</td>\n",
       "      <td>296.0</td>\n",
       "      <td>0.473</td>\n",
       "      <td>31.0</td>\n",
       "      <td>80.0</td>\n",
       "      <td>0.388</td>\n",
       "      <td>109.0</td>\n",
       "      <td>216.0</td>\n",
       "      <td>...</td>\n",
       "      <td>19.0</td>\n",
       "      <td>99.0</td>\n",
       "      <td>118.0</td>\n",
       "      <td>49.0</td>\n",
       "      <td>11.0</td>\n",
       "      <td>29.0</td>\n",
       "      <td>27.0</td>\n",
       "      <td>47.0</td>\n",
       "      <td>352.0</td>\n",
       "      <td>18.82</td>\n",
       "    </tr>\n",
       "    <tr>\n",
       "      <th>4</th>\n",
       "      <td>46.0</td>\n",
       "      <td>1007.0</td>\n",
       "      <td>192.0</td>\n",
       "      <td>458.0</td>\n",
       "      <td>0.419</td>\n",
       "      <td>76.0</td>\n",
       "      <td>219.0</td>\n",
       "      <td>0.347</td>\n",
       "      <td>116.0</td>\n",
       "      <td>239.0</td>\n",
       "      <td>...</td>\n",
       "      <td>13.0</td>\n",
       "      <td>131.0</td>\n",
       "      <td>144.0</td>\n",
       "      <td>102.0</td>\n",
       "      <td>47.0</td>\n",
       "      <td>22.0</td>\n",
       "      <td>69.0</td>\n",
       "      <td>88.0</td>\n",
       "      <td>508.0</td>\n",
       "      <td>15.92</td>\n",
       "    </tr>\n",
       "    <tr>\n",
       "      <th>...</th>\n",
       "      <td>...</td>\n",
       "      <td>...</td>\n",
       "      <td>...</td>\n",
       "      <td>...</td>\n",
       "      <td>...</td>\n",
       "      <td>...</td>\n",
       "      <td>...</td>\n",
       "      <td>...</td>\n",
       "      <td>...</td>\n",
       "      <td>...</td>\n",
       "      <td>...</td>\n",
       "      <td>...</td>\n",
       "      <td>...</td>\n",
       "      <td>...</td>\n",
       "      <td>...</td>\n",
       "      <td>...</td>\n",
       "      <td>...</td>\n",
       "      <td>...</td>\n",
       "      <td>...</td>\n",
       "      <td>...</td>\n",
       "      <td>...</td>\n",
       "    </tr>\n",
       "    <tr>\n",
       "      <th>12168</th>\n",
       "      <td>61.0</td>\n",
       "      <td>972.0</td>\n",
       "      <td>160.0</td>\n",
       "      <td>405.0</td>\n",
       "      <td>0.395</td>\n",
       "      <td>12.0</td>\n",
       "      <td>41.0</td>\n",
       "      <td>0.293</td>\n",
       "      <td>148.0</td>\n",
       "      <td>364.0</td>\n",
       "      <td>...</td>\n",
       "      <td>25.0</td>\n",
       "      <td>63.0</td>\n",
       "      <td>88.0</td>\n",
       "      <td>66.0</td>\n",
       "      <td>42.0</td>\n",
       "      <td>11.0</td>\n",
       "      <td>49.0</td>\n",
       "      <td>100.0</td>\n",
       "      <td>394.0</td>\n",
       "      <td>10.00</td>\n",
       "    </tr>\n",
       "    <tr>\n",
       "      <th>12169</th>\n",
       "      <td>62.0</td>\n",
       "      <td>1421.0</td>\n",
       "      <td>306.0</td>\n",
       "      <td>550.0</td>\n",
       "      <td>0.556</td>\n",
       "      <td>0.0</td>\n",
       "      <td>5.0</td>\n",
       "      <td>0.000</td>\n",
       "      <td>306.0</td>\n",
       "      <td>545.0</td>\n",
       "      <td>...</td>\n",
       "      <td>49.0</td>\n",
       "      <td>136.0</td>\n",
       "      <td>185.0</td>\n",
       "      <td>96.0</td>\n",
       "      <td>39.0</td>\n",
       "      <td>46.0</td>\n",
       "      <td>73.0</td>\n",
       "      <td>160.0</td>\n",
       "      <td>788.0</td>\n",
       "      <td>19.81</td>\n",
       "    </tr>\n",
       "    <tr>\n",
       "      <th>12170</th>\n",
       "      <td>80.0</td>\n",
       "      <td>2960.0</td>\n",
       "      <td>711.0</td>\n",
       "      <td>1298.0</td>\n",
       "      <td>0.548</td>\n",
       "      <td>15.0</td>\n",
       "      <td>49.0</td>\n",
       "      <td>0.306</td>\n",
       "      <td>696.0</td>\n",
       "      <td>1249.0</td>\n",
       "      <td>...</td>\n",
       "      <td>160.0</td>\n",
       "      <td>318.0</td>\n",
       "      <td>478.0</td>\n",
       "      <td>288.0</td>\n",
       "      <td>99.0</td>\n",
       "      <td>49.0</td>\n",
       "      <td>160.0</td>\n",
       "      <td>190.0</td>\n",
       "      <td>1685.0</td>\n",
       "      <td>22.09</td>\n",
       "    </tr>\n",
       "    <tr>\n",
       "      <th>12171</th>\n",
       "      <td>82.0</td>\n",
       "      <td>1393.0</td>\n",
       "      <td>138.0</td>\n",
       "      <td>328.0</td>\n",
       "      <td>0.421</td>\n",
       "      <td>16.0</td>\n",
       "      <td>59.0</td>\n",
       "      <td>0.271</td>\n",
       "      <td>122.0</td>\n",
       "      <td>269.0</td>\n",
       "      <td>...</td>\n",
       "      <td>29.0</td>\n",
       "      <td>93.0</td>\n",
       "      <td>122.0</td>\n",
       "      <td>231.0</td>\n",
       "      <td>82.0</td>\n",
       "      <td>4.0</td>\n",
       "      <td>80.0</td>\n",
       "      <td>84.0</td>\n",
       "      <td>383.0</td>\n",
       "      <td>13.22</td>\n",
       "    </tr>\n",
       "    <tr>\n",
       "      <th>12172</th>\n",
       "      <td>45.0</td>\n",
       "      <td>459.0</td>\n",
       "      <td>92.0</td>\n",
       "      <td>194.0</td>\n",
       "      <td>0.474</td>\n",
       "      <td>8.0</td>\n",
       "      <td>26.0</td>\n",
       "      <td>0.308</td>\n",
       "      <td>84.0</td>\n",
       "      <td>168.0</td>\n",
       "      <td>...</td>\n",
       "      <td>36.0</td>\n",
       "      <td>50.0</td>\n",
       "      <td>86.0</td>\n",
       "      <td>24.0</td>\n",
       "      <td>25.0</td>\n",
       "      <td>3.0</td>\n",
       "      <td>15.0</td>\n",
       "      <td>47.0</td>\n",
       "      <td>219.0</td>\n",
       "      <td>17.85</td>\n",
       "    </tr>\n",
       "  </tbody>\n",
       "</table>\n",
       "<p>12173 rows × 25 columns</p>\n",
       "</div>"
      ],
      "text/plain": [
       "          G      MP     FG     FGA    FG%    3P    3PA    3P%     2P     2PA  \\\n",
       "0      61.0   737.0  124.0   228.0  0.544   0.0    1.0  0.000  124.0   227.0   \n",
       "1      58.0  1605.0  189.0   308.0  0.614   0.0    3.0  0.000  189.0   305.0   \n",
       "2      64.0  2143.0  456.0   800.0  0.570   2.0    8.0  0.250  454.0   792.0   \n",
       "3      26.0   674.0  140.0   296.0  0.473  31.0   80.0  0.388  109.0   216.0   \n",
       "4      46.0  1007.0  192.0   458.0  0.419  76.0  219.0  0.347  116.0   239.0   \n",
       "...     ...     ...    ...     ...    ...   ...    ...    ...    ...     ...   \n",
       "12168  61.0   972.0  160.0   405.0  0.395  12.0   41.0  0.293  148.0   364.0   \n",
       "12169  62.0  1421.0  306.0   550.0  0.556   0.0    5.0  0.000  306.0   545.0   \n",
       "12170  80.0  2960.0  711.0  1298.0  0.548  15.0   49.0  0.306  696.0  1249.0   \n",
       "12171  82.0  1393.0  138.0   328.0  0.421  16.0   59.0  0.271  122.0   269.0   \n",
       "12172  45.0   459.0   92.0   194.0  0.474   8.0   26.0  0.308   84.0   168.0   \n",
       "\n",
       "       ...    ORB    DRB    TRB    AST   STL   BLK    TOV     PF     PTS  \\\n",
       "0      ...   73.0  135.0  208.0   29.0  20.0  28.0   43.0   91.0   304.0   \n",
       "1      ...  213.0  301.0  514.0  111.0  54.0  38.0   78.0  113.0   438.0   \n",
       "2      ...  142.0  431.0  573.0  346.0  75.0  66.0  169.0  145.0  1197.0   \n",
       "3      ...   19.0   99.0  118.0   49.0  11.0  29.0   27.0   47.0   352.0   \n",
       "4      ...   13.0  131.0  144.0  102.0  47.0  22.0   69.0   88.0   508.0   \n",
       "...    ...    ...    ...    ...    ...   ...   ...    ...    ...     ...   \n",
       "12168  ...   25.0   63.0   88.0   66.0  42.0  11.0   49.0  100.0   394.0   \n",
       "12169  ...   49.0  136.0  185.0   96.0  39.0  46.0   73.0  160.0   788.0   \n",
       "12170  ...  160.0  318.0  478.0  288.0  99.0  49.0  160.0  190.0  1685.0   \n",
       "12171  ...   29.0   93.0  122.0  231.0  82.0   4.0   80.0   84.0   383.0   \n",
       "12172  ...   36.0   50.0   86.0   24.0  25.0   3.0   15.0   47.0   219.0   \n",
       "\n",
       "         PER  \n",
       "0      16.64  \n",
       "1      17.29  \n",
       "2      26.39  \n",
       "3      18.82  \n",
       "4      15.92  \n",
       "...      ...  \n",
       "12168  10.00  \n",
       "12169  19.81  \n",
       "12170  22.09  \n",
       "12171  13.22  \n",
       "12172  17.85  \n",
       "\n",
       "[12173 rows x 25 columns]"
      ]
     },
     "execution_count": 2,
     "metadata": {},
     "output_type": "execute_result"
    }
   ],
   "source": [
    "stats_df = pd.read_csv('NBA_clean_data.csv')\n",
    "\n",
    "#Drop columns that won't help our model\n",
    "stats_df.drop([\"Player\", \"Year\",\"Pos\", \"Tm\", \"Age\",\"GS\"],axis=1, inplace = True)\n",
    "stats_df"
   ]
  },
  {
   "cell_type": "markdown",
   "metadata": {},
   "source": [
    "### Linear Regresion"
   ]
  },
  {
   "cell_type": "code",
   "execution_count": 3,
   "metadata": {},
   "outputs": [],
   "source": [
    "#Split the dataframe to train and test\n",
    "X_train1,X_test1,y_train1,y_test1 = train_test_split(stats_df.drop(['PER'],axis=1),stats_df['PER'],test_size=0.3,random_state=42)"
   ]
  },
  {
   "cell_type": "code",
   "execution_count": 4,
   "metadata": {},
   "outputs": [
    {
     "data": {
      "text/plain": [
       "LinearRegression()"
      ]
     },
     "execution_count": 4,
     "metadata": {},
     "output_type": "execute_result"
    }
   ],
   "source": [
    "#Fit the model\n",
    "lr = linear_model.LinearRegression()\n",
    "lr.fit(X_train1,y_train1)\n"
   ]
  },
  {
   "cell_type": "code",
   "execution_count": 5,
   "metadata": {},
   "outputs": [
    {
     "data": {
      "text/plain": [
       "array([16.98683019, 11.05693766,  5.37860682, ...,  9.0660549 ,\n",
       "       18.92641479, 13.70328535])"
      ]
     },
     "execution_count": 5,
     "metadata": {},
     "output_type": "execute_result"
    }
   ],
   "source": [
    "#Predict the outcome\n",
    "y_pred1 = lr.predict(X_test1)\n",
    "y_pred1"
   ]
  },
  {
   "cell_type": "code",
   "execution_count": 6,
   "metadata": {},
   "outputs": [
    {
     "name": "stdout",
     "output_type": "stream",
     "text": [
      "r^2: 0.8813846791129788\n",
      "mse: 2.425004267627439\n"
     ]
    }
   ],
   "source": [
    "#Check the results of the model\n",
    "print(f'r^2: {metrics.r2_score(y_test1,y_pred1)}')\n",
    "print(f'mse: {metrics.mean_squared_error(y_test1,y_pred1)}')\n"
   ]
  },
  {
   "cell_type": "code",
   "execution_count": 7,
   "metadata": {},
   "outputs": [
    {
     "data": {
      "text/plain": [
       "Text(0, 0.5, 'Predicted')"
      ]
     },
     "execution_count": 7,
     "metadata": {},
     "output_type": "execute_result"
    },
    {
     "data": {
      "image/png": "[encoded data removed]",
      "text/plain": [
       "<Figure size 1080x720 with 1 Axes>"
      ]
     },
     "metadata": {
      "needs_background": "light"
     },
     "output_type": "display_data"
    }
   ],
   "source": [
    "#We can see that our model predicted the PER with good results\n",
    "plt.figure(figsize=(15,10))\n",
    "plt.scatter(y_test1,y_pred1)\n",
    "plt.xlabel('Actual')\n",
    "plt.ylabel('Predicted')\n"
   ]
  },
  {
   "cell_type": "code",
   "execution_count": 8,
   "metadata": {},
   "outputs": [
    {
     "data": {
      "text/html": [
       "<div>\n",
       "<style scoped>\n",
       "    .dataframe tbody tr th:only-of-type {\n",
       "        vertical-align: middle;\n",
       "    }\n",
       "\n",
       "    .dataframe tbody tr th {\n",
       "        vertical-align: top;\n",
       "    }\n",
       "\n",
       "    .dataframe thead th {\n",
       "        text-align: right;\n",
       "    }\n",
       "</style>\n",
       "<table border=\"1\" class=\"dataframe\">\n",
       "  <thead>\n",
       "    <tr style=\"text-align: right;\">\n",
       "      <th></th>\n",
       "      <th>Actual</th>\n",
       "      <th>Predicted</th>\n",
       "      <th>Difference</th>\n",
       "    </tr>\n",
       "  </thead>\n",
       "  <tbody>\n",
       "    <tr>\n",
       "      <th>5739</th>\n",
       "      <td>17.61</td>\n",
       "      <td>16.986830</td>\n",
       "      <td>0.623170</td>\n",
       "    </tr>\n",
       "    <tr>\n",
       "      <th>2628</th>\n",
       "      <td>9.79</td>\n",
       "      <td>11.056938</td>\n",
       "      <td>1.266938</td>\n",
       "    </tr>\n",
       "    <tr>\n",
       "      <th>6108</th>\n",
       "      <td>3.79</td>\n",
       "      <td>5.378607</td>\n",
       "      <td>1.588607</td>\n",
       "    </tr>\n",
       "    <tr>\n",
       "      <th>3105</th>\n",
       "      <td>10.39</td>\n",
       "      <td>11.809248</td>\n",
       "      <td>1.419248</td>\n",
       "    </tr>\n",
       "    <tr>\n",
       "      <th>7907</th>\n",
       "      <td>14.20</td>\n",
       "      <td>14.695596</td>\n",
       "      <td>0.495596</td>\n",
       "    </tr>\n",
       "    <tr>\n",
       "      <th>...</th>\n",
       "      <td>...</td>\n",
       "      <td>...</td>\n",
       "      <td>...</td>\n",
       "    </tr>\n",
       "    <tr>\n",
       "      <th>1242</th>\n",
       "      <td>16.76</td>\n",
       "      <td>15.437742</td>\n",
       "      <td>1.322258</td>\n",
       "    </tr>\n",
       "    <tr>\n",
       "      <th>420</th>\n",
       "      <td>22.65</td>\n",
       "      <td>16.730680</td>\n",
       "      <td>5.919320</td>\n",
       "    </tr>\n",
       "    <tr>\n",
       "      <th>9592</th>\n",
       "      <td>7.32</td>\n",
       "      <td>9.066055</td>\n",
       "      <td>1.746055</td>\n",
       "    </tr>\n",
       "    <tr>\n",
       "      <th>9197</th>\n",
       "      <td>19.10</td>\n",
       "      <td>18.926415</td>\n",
       "      <td>0.173585</td>\n",
       "    </tr>\n",
       "    <tr>\n",
       "      <th>37</th>\n",
       "      <td>13.80</td>\n",
       "      <td>13.703285</td>\n",
       "      <td>0.096715</td>\n",
       "    </tr>\n",
       "  </tbody>\n",
       "</table>\n",
       "<p>3652 rows × 3 columns</p>\n",
       "</div>"
      ],
      "text/plain": [
       "      Actual  Predicted  Difference\n",
       "5739   17.61  16.986830    0.623170\n",
       "2628    9.79  11.056938    1.266938\n",
       "6108    3.79   5.378607    1.588607\n",
       "3105   10.39  11.809248    1.419248\n",
       "7907   14.20  14.695596    0.495596\n",
       "...      ...        ...         ...\n",
       "1242   16.76  15.437742    1.322258\n",
       "420    22.65  16.730680    5.919320\n",
       "9592    7.32   9.066055    1.746055\n",
       "9197   19.10  18.926415    0.173585\n",
       "37     13.80  13.703285    0.096715\n",
       "\n",
       "[3652 rows x 3 columns]"
      ]
     },
     "execution_count": 8,
     "metadata": {},
     "output_type": "execute_result"
    }
   ],
   "source": [
    "#Check the difference between the predicted value and the actual value\n",
    "compare_df = pd.DataFrame({'Actual':y_test1,'Predicted':y_pred1,'Difference':abs(y_test1-y_pred1)})\n",
    "compare_df"
   ]
  },
  {
   "cell_type": "markdown",
   "metadata": {},
   "source": [
    "### Decision Tree Regressor"
   ]
  },
  {
   "cell_type": "code",
   "execution_count": 9,
   "metadata": {},
   "outputs": [],
   "source": [
    "from sklearn.tree import DecisionTreeRegressor"
   ]
  },
  {
   "cell_type": "code",
   "execution_count": 10,
   "metadata": {},
   "outputs": [],
   "source": [
    "dectree = DecisionTreeRegressor()"
   ]
  },
  {
   "cell_type": "code",
   "execution_count": 11,
   "metadata": {},
   "outputs": [],
   "source": [
    "#Split the dataframe to train and test\n",
    "X_train2,X_test2,y_train2,y_test2 = train_test_split(stats_df.drop(['PER'],axis=1),stats_df['PER'],test_size=0.3,random_state=42)"
   ]
  },
  {
   "cell_type": "code",
   "execution_count": 12,
   "metadata": {},
   "outputs": [
    {
     "data": {
      "text/plain": [
       "DecisionTreeRegressor()"
      ]
     },
     "execution_count": 12,
     "metadata": {},
     "output_type": "execute_result"
    }
   ],
   "source": [
    "#Fit the model\n",
    "DecisionTreeRegressor(random_state=42)\n",
    "dectree.fit(X_train2,y_train2)"
   ]
  },
  {
   "cell_type": "code",
   "execution_count": 13,
   "metadata": {},
   "outputs": [
    {
     "data": {
      "text/plain": [
       "array([18.02,  7.94,  6.37, ...,  7.42, 18.94, 15.08])"
      ]
     },
     "execution_count": 13,
     "metadata": {},
     "output_type": "execute_result"
    }
   ],
   "source": [
    "#Predict the outcome\n",
    "y_pred2 = dectree.predict(X_test2)\n",
    "y_pred2"
   ]
  },
  {
   "cell_type": "code",
   "execution_count": 14,
   "metadata": {},
   "outputs": [
    {
     "name": "stdout",
     "output_type": "stream",
     "text": [
      "r^2: 0.6458571690015732\n",
      "mse: 7.240193510405257\n"
     ]
    }
   ],
   "source": [
    "#Check the results of the model\n",
    "print(f'r^2: {metrics.r2_score(y_test2,y_pred2)}')\n",
    "print(f'mse: {metrics.mean_squared_error(y_test2,y_pred2)}')\n"
   ]
  },
  {
   "cell_type": "code",
   "execution_count": 15,
   "metadata": {},
   "outputs": [
    {
     "data": {
      "text/plain": [
       "Text(0, 0.5, 'Predicted')"
      ]
     },
     "execution_count": 15,
     "metadata": {},
     "output_type": "execute_result"
    },
    {
     "data": {
      "image/png": "[encoded data removed]",
      "text/plain": [
       "<Figure size 1080x720 with 1 Axes>"
      ]
     },
     "metadata": {
      "needs_background": "light"
     },
     "output_type": "display_data"
    }
   ],
   "source": [
    "#We can see that our model predicted the PER with less better results\n",
    "plt.figure(figsize=(15,10))\n",
    "plt.scatter(y_test2,y_pred2)\n",
    "plt.xlabel('Actual')\n",
    "plt.ylabel('Predicted')"
   ]
  },
  {
   "cell_type": "code",
   "execution_count": 16,
   "metadata": {},
   "outputs": [
    {
     "data": {
      "text/html": [
       "<div>\n",
       "<style scoped>\n",
       "    .dataframe tbody tr th:only-of-type {\n",
       "        vertical-align: middle;\n",
       "    }\n",
       "\n",
       "    .dataframe tbody tr th {\n",
       "        vertical-align: top;\n",
       "    }\n",
       "\n",
       "    .dataframe thead th {\n",
       "        text-align: right;\n",
       "    }\n",
       "</style>\n",
       "<table border=\"1\" class=\"dataframe\">\n",
       "  <thead>\n",
       "    <tr style=\"text-align: right;\">\n",
       "      <th></th>\n",
       "      <th>Actual</th>\n",
       "      <th>Predicted</th>\n",
       "      <th>Difference</th>\n",
       "    </tr>\n",
       "  </thead>\n",
       "  <tbody>\n",
       "    <tr>\n",
       "      <th>5739</th>\n",
       "      <td>17.61</td>\n",
       "      <td>18.02</td>\n",
       "      <td>0.41</td>\n",
       "    </tr>\n",
       "    <tr>\n",
       "      <th>2628</th>\n",
       "      <td>9.79</td>\n",
       "      <td>7.94</td>\n",
       "      <td>1.85</td>\n",
       "    </tr>\n",
       "    <tr>\n",
       "      <th>6108</th>\n",
       "      <td>3.79</td>\n",
       "      <td>6.37</td>\n",
       "      <td>2.58</td>\n",
       "    </tr>\n",
       "    <tr>\n",
       "      <th>3105</th>\n",
       "      <td>10.39</td>\n",
       "      <td>7.70</td>\n",
       "      <td>2.69</td>\n",
       "    </tr>\n",
       "    <tr>\n",
       "      <th>7907</th>\n",
       "      <td>14.20</td>\n",
       "      <td>13.42</td>\n",
       "      <td>0.78</td>\n",
       "    </tr>\n",
       "    <tr>\n",
       "      <th>...</th>\n",
       "      <td>...</td>\n",
       "      <td>...</td>\n",
       "      <td>...</td>\n",
       "    </tr>\n",
       "    <tr>\n",
       "      <th>1242</th>\n",
       "      <td>16.76</td>\n",
       "      <td>13.04</td>\n",
       "      <td>3.72</td>\n",
       "    </tr>\n",
       "    <tr>\n",
       "      <th>420</th>\n",
       "      <td>22.65</td>\n",
       "      <td>17.66</td>\n",
       "      <td>4.99</td>\n",
       "    </tr>\n",
       "    <tr>\n",
       "      <th>9592</th>\n",
       "      <td>7.32</td>\n",
       "      <td>7.42</td>\n",
       "      <td>0.10</td>\n",
       "    </tr>\n",
       "    <tr>\n",
       "      <th>9197</th>\n",
       "      <td>19.10</td>\n",
       "      <td>18.94</td>\n",
       "      <td>0.16</td>\n",
       "    </tr>\n",
       "    <tr>\n",
       "      <th>37</th>\n",
       "      <td>13.80</td>\n",
       "      <td>15.08</td>\n",
       "      <td>1.28</td>\n",
       "    </tr>\n",
       "  </tbody>\n",
       "</table>\n",
       "<p>3652 rows × 3 columns</p>\n",
       "</div>"
      ],
      "text/plain": [
       "      Actual  Predicted  Difference\n",
       "5739   17.61      18.02        0.41\n",
       "2628    9.79       7.94        1.85\n",
       "6108    3.79       6.37        2.58\n",
       "3105   10.39       7.70        2.69\n",
       "7907   14.20      13.42        0.78\n",
       "...      ...        ...         ...\n",
       "1242   16.76      13.04        3.72\n",
       "420    22.65      17.66        4.99\n",
       "9592    7.32       7.42        0.10\n",
       "9197   19.10      18.94        0.16\n",
       "37     13.80      15.08        1.28\n",
       "\n",
       "[3652 rows x 3 columns]"
      ]
     },
     "execution_count": 16,
     "metadata": {},
     "output_type": "execute_result"
    }
   ],
   "source": [
    "#Check the difference between the predicted value and the actual value\n",
    "compare_df2 = pd.DataFrame({'Actual':y_test2,'Predicted':y_pred2,'Difference':abs(y_test2-y_pred2)})\n",
    "compare_df2"
   ]
  },
  {
   "cell_type": "markdown",
   "metadata": {},
   "source": [
    "### Random Forest Regressor"
   ]
  },
  {
   "cell_type": "code",
   "execution_count": 17,
   "metadata": {},
   "outputs": [],
   "source": [
    "from sklearn.ensemble import RandomForestRegressor\n",
    "rndfor= RandomForestRegressor()"
   ]
  },
  {
   "cell_type": "code",
   "execution_count": 18,
   "metadata": {},
   "outputs": [],
   "source": [
    "#Split the dataframe to train and test\n",
    "X_train3,X_test3,y_train3,y_test3 = train_test_split(stats_df.drop(['PER'],axis=1),stats_df['PER'],test_size=0.3,random_state=42)"
   ]
  },
  {
   "cell_type": "code",
   "execution_count": 19,
   "metadata": {},
   "outputs": [
    {
     "data": {
      "text/plain": [
       "RandomForestRegressor()"
      ]
     },
     "execution_count": 19,
     "metadata": {},
     "output_type": "execute_result"
    }
   ],
   "source": [
    "#Fit the model\n",
    "RandomForestRegressor(random_state=42)\n",
    "rndfor.fit(X_train3,y_train3)\n"
   ]
  },
  {
   "cell_type": "code",
   "execution_count": 20,
   "metadata": {},
   "outputs": [
    {
     "data": {
      "text/plain": [
       "array([16.0692,  9.6578,  5.7078, ...,  9.1876, 17.8702, 13.0571])"
      ]
     },
     "execution_count": 20,
     "metadata": {},
     "output_type": "execute_result"
    }
   ],
   "source": [
    "#Predict the outcome\n",
    "y_pred3 = rndfor.predict(X_test3)\n",
    "y_pred3"
   ]
  },
  {
   "cell_type": "code",
   "execution_count": 21,
   "metadata": {},
   "outputs": [
    {
     "name": "stdout",
     "output_type": "stream",
     "text": [
      "r^2: 0.8570025615060483\n",
      "mse: 2.9234789908625416\n"
     ]
    }
   ],
   "source": [
    "#Check the results of the model\n",
    "print(f'r^2: {metrics.r2_score(y_test3,y_pred3)}')\n",
    "print(f'mse: {metrics.mean_squared_error(y_test3,y_pred3)}')"
   ]
  },
  {
   "cell_type": "code",
   "execution_count": 22,
   "metadata": {},
   "outputs": [
    {
     "data": {
      "text/plain": [
       "Text(0, 0.5, 'Predicted')"
      ]
     },
     "execution_count": 22,
     "metadata": {},
     "output_type": "execute_result"
    },
    {
     "data": {
      "image/png": "[encoded data removed]",
      "text/plain": [
       "<Figure size 1080x720 with 1 Axes>"
      ]
     },
     "metadata": {
      "needs_background": "light"
     },
     "output_type": "display_data"
    }
   ],
   "source": [
    "#We can see that our model predicted the PER with almost as good as linear regression results\n",
    "plt.figure(figsize=(15,10))\n",
    "plt.scatter(y_test3,y_pred3)\n",
    "plt.xlabel('Actual')\n",
    "plt.ylabel('Predicted')"
   ]
  },
  {
   "cell_type": "code",
   "execution_count": 23,
   "metadata": {},
   "outputs": [
    {
     "data": {
      "text/html": [
       "<div>\n",
       "<style scoped>\n",
       "    .dataframe tbody tr th:only-of-type {\n",
       "        vertical-align: middle;\n",
       "    }\n",
       "\n",
       "    .dataframe tbody tr th {\n",
       "        vertical-align: top;\n",
       "    }\n",
       "\n",
       "    .dataframe thead th {\n",
       "        text-align: right;\n",
       "    }\n",
       "</style>\n",
       "<table border=\"1\" class=\"dataframe\">\n",
       "  <thead>\n",
       "    <tr style=\"text-align: right;\">\n",
       "      <th></th>\n",
       "      <th>Actual</th>\n",
       "      <th>Predicted</th>\n",
       "      <th>Difference</th>\n",
       "    </tr>\n",
       "  </thead>\n",
       "  <tbody>\n",
       "    <tr>\n",
       "      <th>5739</th>\n",
       "      <td>17.61</td>\n",
       "      <td>16.0692</td>\n",
       "      <td>1.5408</td>\n",
       "    </tr>\n",
       "    <tr>\n",
       "      <th>2628</th>\n",
       "      <td>9.79</td>\n",
       "      <td>9.6578</td>\n",
       "      <td>0.1322</td>\n",
       "    </tr>\n",
       "    <tr>\n",
       "      <th>6108</th>\n",
       "      <td>3.79</td>\n",
       "      <td>5.7078</td>\n",
       "      <td>1.9178</td>\n",
       "    </tr>\n",
       "    <tr>\n",
       "      <th>3105</th>\n",
       "      <td>10.39</td>\n",
       "      <td>9.4485</td>\n",
       "      <td>0.9415</td>\n",
       "    </tr>\n",
       "    <tr>\n",
       "      <th>7907</th>\n",
       "      <td>14.20</td>\n",
       "      <td>14.6787</td>\n",
       "      <td>0.4787</td>\n",
       "    </tr>\n",
       "    <tr>\n",
       "      <th>...</th>\n",
       "      <td>...</td>\n",
       "      <td>...</td>\n",
       "      <td>...</td>\n",
       "    </tr>\n",
       "    <tr>\n",
       "      <th>1242</th>\n",
       "      <td>16.76</td>\n",
       "      <td>14.6388</td>\n",
       "      <td>2.1212</td>\n",
       "    </tr>\n",
       "    <tr>\n",
       "      <th>420</th>\n",
       "      <td>22.65</td>\n",
       "      <td>18.0824</td>\n",
       "      <td>4.5676</td>\n",
       "    </tr>\n",
       "    <tr>\n",
       "      <th>9592</th>\n",
       "      <td>7.32</td>\n",
       "      <td>9.1876</td>\n",
       "      <td>1.8676</td>\n",
       "    </tr>\n",
       "    <tr>\n",
       "      <th>9197</th>\n",
       "      <td>19.10</td>\n",
       "      <td>17.8702</td>\n",
       "      <td>1.2298</td>\n",
       "    </tr>\n",
       "    <tr>\n",
       "      <th>37</th>\n",
       "      <td>13.80</td>\n",
       "      <td>13.0571</td>\n",
       "      <td>0.7429</td>\n",
       "    </tr>\n",
       "  </tbody>\n",
       "</table>\n",
       "<p>3652 rows × 3 columns</p>\n",
       "</div>"
      ],
      "text/plain": [
       "      Actual  Predicted  Difference\n",
       "5739   17.61    16.0692      1.5408\n",
       "2628    9.79     9.6578      0.1322\n",
       "6108    3.79     5.7078      1.9178\n",
       "3105   10.39     9.4485      0.9415\n",
       "7907   14.20    14.6787      0.4787\n",
       "...      ...        ...         ...\n",
       "1242   16.76    14.6388      2.1212\n",
       "420    22.65    18.0824      4.5676\n",
       "9592    7.32     9.1876      1.8676\n",
       "9197   19.10    17.8702      1.2298\n",
       "37     13.80    13.0571      0.7429\n",
       "\n",
       "[3652 rows x 3 columns]"
      ]
     },
     "execution_count": 23,
     "metadata": {},
     "output_type": "execute_result"
    }
   ],
   "source": [
    "#Check the difference between the predicted value and the actual value\n",
    "compare_df3 = pd.DataFrame({'Actual':y_test3,'Predicted':y_pred3,'Difference':abs(y_test3-y_pred3)})\n",
    "compare_df3"
   ]
  },
  {
   "cell_type": "markdown",
   "metadata": {},
   "source": [
    "### MSE and R^2 score comparison"
   ]
  },
  {
   "cell_type": "code",
   "execution_count": 24,
   "metadata": {},
   "outputs": [
    {
     "data": {
      "text/html": [
       "<div>\n",
       "<style scoped>\n",
       "    .dataframe tbody tr th:only-of-type {\n",
       "        vertical-align: middle;\n",
       "    }\n",
       "\n",
       "    .dataframe tbody tr th {\n",
       "        vertical-align: top;\n",
       "    }\n",
       "\n",
       "    .dataframe thead th {\n",
       "        text-align: right;\n",
       "    }\n",
       "</style>\n",
       "<table border=\"1\" class=\"dataframe\">\n",
       "  <thead>\n",
       "    <tr style=\"text-align: right;\">\n",
       "      <th></th>\n",
       "      <th>r^2</th>\n",
       "      <th>MSE</th>\n",
       "    </tr>\n",
       "  </thead>\n",
       "  <tbody>\n",
       "    <tr>\n",
       "      <th>Linear Regression</th>\n",
       "      <td>0.881385</td>\n",
       "      <td>2.425004</td>\n",
       "    </tr>\n",
       "    <tr>\n",
       "      <th>Decision Tree Regressor</th>\n",
       "      <td>0.645857</td>\n",
       "      <td>7.240194</td>\n",
       "    </tr>\n",
       "    <tr>\n",
       "      <th>Random Forest Regressor</th>\n",
       "      <td>0.857003</td>\n",
       "      <td>2.923479</td>\n",
       "    </tr>\n",
       "  </tbody>\n",
       "</table>\n",
       "</div>"
      ],
      "text/plain": [
       "                              r^2       MSE\n",
       "Linear Regression        0.881385  2.425004\n",
       "Decision Tree Regressor  0.645857  7.240194\n",
       "Random Forest Regressor  0.857003  2.923479"
      ]
     },
     "execution_count": 24,
     "metadata": {},
     "output_type": "execute_result"
    }
   ],
   "source": [
    "#Create dataframe for comparison of algorithms\n",
    "r2_mse_comp_data = {'r^2':[metrics.r2_score(y_test1,y_pred1),metrics.r2_score(y_test2,y_pred2),metrics.r2_score(y_test3,y_pred3)],\n",
    "                  'MSE':[metrics.mean_squared_error(y_test1,y_pred1),metrics.mean_squared_error(y_test2,y_pred2),\n",
    "                         metrics.mean_squared_error(y_test3,y_pred3)]}\n",
    "r2_mse_comp_df= pd.DataFrame(r2_mse_comp_data,index=['Linear Regression','Decision Tree Regressor','Random Forest Regressor'])\n",
    "r2_mse_comp_df"
   ]
  },
  {
   "cell_type": "code",
   "execution_count": 25,
   "metadata": {},
   "outputs": [
    {
     "data": {
      "text/plain": [
       "Text(0, 0.5, 'Value')"
      ]
     },
     "execution_count": 25,
     "metadata": {},
     "output_type": "execute_result"
    },
    {
     "data": {
      "image/png": "[encoded data removed]",
      "text/plain": [
       "<Figure size 720x720 with 1 Axes>"
      ]
     },
     "metadata": {
      "needs_background": "light"
     },
     "output_type": "display_data"
    }
   ],
   "source": [
    "#We can see that the best algorithem is the one with the largest r^2 score and the minimal MSE score, meaning Linear Regression.\n",
    "r2_mse_comp_df.plot.bar(rot=0,figsize=(10,10))\n",
    "plt.legend(fontsize = 14)\n",
    "plt.xlabel('Machine Learning Algorithems')\n",
    "plt.ylabel('Value')"
   ]
  },
  {
   "cell_type": "markdown",
   "metadata": {},
   "source": [
    "### We can see that the Linear Regression has the besr r^2 score and the lowest mean square error"
   ]
  }
 ],
 "metadata": {
  "kernelspec": {
   "display_name": "Python 3",
   "language": "python",
   "name": "python3"
  },
  "language_info": {
   "codemirror_mode": {
    "name": "ipython",
    "version": 3
   },
   "file_extension": ".py",
   "mimetype": "text/x-python",
   "name": "python",
   "nbconvert_exporter": "python",
   "pygments_lexer": "ipython3",
   "version": "3.8.5"
  }
 },
 "nbformat": 4,
 "nbformat_minor": 4
}
