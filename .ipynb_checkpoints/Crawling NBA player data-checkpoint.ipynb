{
 "cells": [
  {
   "cell_type": "code",
   "execution_count": 1,
   "metadata": {},
   "outputs": [],
   "source": [
    "import pandas as pd\n",
    "import requests\n",
    "import numpy as np\n",
    "from bs4 import BeautifulSoup"
   ]
  },
  {
   "cell_type": "code",
   "execution_count": 2,
   "metadata": {
    "scrolled": true
   },
   "outputs": [],
   "source": [
    "from time import sleep\n",
    "from random import randint"
   ]
  },
  {
   "cell_type": "markdown",
   "metadata": {},
   "source": [
    "## Scraping the data with BeautifulSoup library"
   ]
  },
  {
   "cell_type": "markdown",
   "metadata": {},
   "source": [
    "### Collecting all the stats of each player in each season from 1990 to 2021"
   ]
  },
  {
   "cell_type": "code",
   "execution_count": null,
   "metadata": {},
   "outputs": [],
   "source": [
    "array_of_df = []\n",
    "\n",
    "#Collecting data of each year from 1990 to 2021.\n",
    "\n",
    "for Year in range(1990, 2022): \n",
    "    sleep (randint(2,4))\n",
    "    \n",
    "    #Get the url of the specific year.\n",
    "    URL = f'https://www.basketball-reference.com/leagues/NBA_{Year}_totals.html'\n",
    "    response = requests.get(URL)\n",
    "    soup = BeautifulSoup(response.content, 'html.parser')\n",
    "    \n",
    "    #Get table from page\n",
    "    tbl = soup.find_all(\"table\",id = \"totals_stats\")[0]\n",
    "    #Get headers from table\n",
    "    headers = [th.getText() for th in tbl.thead.findAll('th')]\n",
    "    #Remove Rank column its not needed\n",
    "    headers = headers[1:]\n",
    "    #Get rows without first header row\n",
    "    rows = soup.findAll('tr')[1:]\n",
    "    #Get all cells\n",
    "    player_stats = [[td.getText() for td in rows[i].findAll('td')] for i in range(len(rows))]\n",
    "    \n",
    "    #Create dataframe from data\n",
    "    df = pd.DataFrame(player_stats, columns = headers)\n",
    "    \n",
    "    #Insert the Year columm to the DF.\n",
    "    df.insert(0,'Year',Year)\n",
    "    \n",
    "    #Drop duplicated players in the same season, keep the one's with the most games played.\n",
    "    df.drop_duplicates(subset=['Player'], keep = 'first', inplace = True)\n",
    "    \n",
    "    #insert this years dataframe to the the array of dataframes.\n",
    "    array_of_df.insert(0,df)"
   ]
  },
  {
   "cell_type": "code",
   "execution_count": null,
   "metadata": {},
   "outputs": [],
   "source": [
    "#Combine all data frames of each year to 1 big dataframe.\n",
    "stats_df = pd.concat(array_of_df)\n",
    "stats_df"
   ]
  },
  {
   "cell_type": "markdown",
   "metadata": {},
   "source": [
    "### Collecting the MVP's of each season from 1990 to 2021"
   ]
  },
  {
   "cell_type": "code",
   "execution_count": null,
   "metadata": {},
   "outputs": [],
   "source": [
    "    #Get table of MVP'S in the last 30 years\n",
    "    \n",
    "    URL2 = f'https://www.basketball-reference.com/awards/mvp.html'\n",
    "    response2 = requests.get(URL2)\n",
    "    soup2 = BeautifulSoup(response2.content, 'html.parser')\n",
    "    \n",
    "    #Get table from page\n",
    "    tbl2 = soup2.find_all(\"table\",id = \"mvp_NBA\")[0]\n",
    "    \n",
    "    #Get headers from table\n",
    "    headers2 = [th.getText() for th in tbl2.thead.findAll('th')][6:]\n",
    "    \n",
    "    #Get rows without first header row\n",
    "    rows2 = soup2.findAll('tr')[2:]\n",
    "    \n",
    "    #Get all cells\n",
    "    player_stats2 = [[td.getText() for td in rows2[i].findAll('td')] for i in range(len(rows2))]\n",
    "    \n",
    "    #Create dataframe from data\n",
    "    mvp_df = pd.DataFrame(player_stats2, columns = headers2)\n",
    "    \n",
    "    mvp_df\n",
    "    "
   ]
  },
  {
   "cell_type": "markdown",
   "metadata": {},
   "source": [
    "### Collecting the Hollinger theory on the meaning of the PER value"
   ]
  },
  {
   "cell_type": "code",
   "execution_count": null,
   "metadata": {},
   "outputs": [],
   "source": [
    "    #Get table of MVP'S in the last 30 years\n",
    "    \n",
    "    URL3 = f'https://en.wikipedia.org/wiki/Player_efficiency_rating'\n",
    "    response3 = requests.get(URL3)\n",
    "    soup3 = BeautifulSoup(response3.content, 'html.parser')\n",
    "    \n",
    "    #Get table from page\n",
    "    tbl3 = soup3.find_all(\"table\",class_ = \"wikitable\")[0]\n",
    "    \n",
    "    #Get rows \n",
    "    rows3 = tbl3.findAll('tr')\n",
    "    \n",
    "    #Get all cells\n",
    "    player_stats3 = [[td.getText() for td in rows3[i].findAll('td')] for i in range(len(rows3))]\n",
    "    \n",
    "    #Create dataframe from data\n",
    "    hollinger_theory = pd.DataFrame(player_stats3, columns = ['Reference guide','PER'])\n",
    "    \n",
    "    #Clean table from char \"\\n\"\n",
    "    hollinger_theory = hollinger_theory.replace('\\n','', regex=True)\n",
    "    \n",
    "    hollinger_theory"
   ]
  },
  {
   "cell_type": "markdown",
   "metadata": {},
   "source": [
    "### Create CSV files"
   ]
  },
  {
   "cell_type": "code",
   "execution_count": null,
   "metadata": {},
   "outputs": [],
   "source": [
    "#Create CSV file of our large stats dataframe\n",
    "stats_df.to_csv('NBA_raw_data.csv', index=False)"
   ]
  },
  {
   "cell_type": "code",
   "execution_count": null,
   "metadata": {},
   "outputs": [],
   "source": [
    "#Create CSV file of our MVP dataframe\n",
    "mvp_df.to_csv('NBA_MVP_raw_data.csv', index=False)"
   ]
  },
  {
   "cell_type": "code",
   "execution_count": null,
   "metadata": {},
   "outputs": [],
   "source": [
    "#Create CSV file of our Hollinger theory dataframe\n",
    "hollinger_theory.to_csv('hollinger_theory.csv', index=False)"
   ]
  },
  {
   "cell_type": "code",
   "execution_count": null,
   "metadata": {},
   "outputs": [],
   "source": []
  }
 ],
 "metadata": {
  "kernelspec": {
   "display_name": "Python 3",
   "language": "python",
   "name": "python3"
  },
  "language_info": {
   "codemirror_mode": {
    "name": "ipython",
    "version": 3
   },
   "file_extension": ".py",
   "mimetype": "text/x-python",
   "name": "python",
   "nbconvert_exporter": "python",
   "pygments_lexer": "ipython3",
   "version": "3.8.5"
  }
 },
 "nbformat": 4,
 "nbformat_minor": 4
}
